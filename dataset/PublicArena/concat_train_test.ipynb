{
 "cells": [
  {
   "cell_type": "code",
   "execution_count": 1,
   "id": "a842440a",
   "metadata": {},
   "outputs": [],
   "source": [
    "import pandas as pd \n",
    "ds_name = \"PublicArena\" #Theia, Cadets\n",
    "# data_folder = f\"dataset/{ds_name}/\"\n",
    "train_df = pd.read_csv(\"training_data.csv\")\n",
    "test_df = pd.read_csv(\"testing_data.csv\")\n"
   ]
  },
  {
   "cell_type": "code",
   "execution_count": 2,
   "id": "0e4b2a63",
   "metadata": {},
   "outputs": [
    {
     "data": {
      "text/plain": [
       "(5153, 279)"
      ]
     },
     "execution_count": 2,
     "metadata": {},
     "output_type": "execute_result"
    }
   ],
   "source": [
    "len(train_df), len(test_df)"
   ]
  },
  {
   "cell_type": "code",
   "execution_count": 21,
   "id": "5efa1807",
   "metadata": {},
   "outputs": [],
   "source": [
    "# importan_cols = ['label',\n",
    "#  'timestamp',\n",
    "#  'eid',\n",
    "#  'type',\n",
    "#  'subject',\n",
    "#  'object',\n",
    "#  'machine',\n",
    "#  'subject_name',\n",
    "#  'object_name',\n",
    "#  'techniques',\n",
    "#  'anomaly_label']"
   ]
  },
  {
   "cell_type": "code",
   "execution_count": 47,
   "id": "257b9c6b",
   "metadata": {},
   "outputs": [],
   "source": [
    "events_df = pd.concat([train_df, test_df], ignore_index=True)"
   ]
  },
  {
   "cell_type": "code",
   "execution_count": 48,
   "id": "fe2e0aac",
   "metadata": {},
   "outputs": [
    {
     "data": {
      "text/html": [
       "<div>\n",
       "<style scoped>\n",
       "    .dataframe tbody tr th:only-of-type {\n",
       "        vertical-align: middle;\n",
       "    }\n",
       "\n",
       "    .dataframe tbody tr th {\n",
       "        vertical-align: top;\n",
       "    }\n",
       "\n",
       "    .dataframe thead th {\n",
       "        text-align: right;\n",
       "    }\n",
       "</style>\n",
       "<table border=\"1\" class=\"dataframe\">\n",
       "  <thead>\n",
       "    <tr style=\"text-align: right;\">\n",
       "      <th></th>\n",
       "      <th>label</th>\n",
       "      <th>PID</th>\n",
       "      <th>PName</th>\n",
       "      <th>event</th>\n",
       "      <th>eid</th>\n",
       "      <th>user</th>\n",
       "      <th>timestamp</th>\n",
       "      <th>date</th>\n",
       "      <th>saddr</th>\n",
       "      <th>sport</th>\n",
       "      <th>...</th>\n",
       "      <th>dport</th>\n",
       "      <th>FileName</th>\n",
       "      <th>ParentID</th>\n",
       "      <th>ImageFileName</th>\n",
       "      <th>CommandLine</th>\n",
       "      <th>PPName</th>\n",
       "      <th>techniques</th>\n",
       "      <th>subject</th>\n",
       "      <th>object</th>\n",
       "      <th>anomaly_label</th>\n",
       "    </tr>\n",
       "  </thead>\n",
       "  <tbody>\n",
       "    <tr>\n",
       "      <th>0</th>\n",
       "      <td>NaN</td>\n",
       "      <td>5260</td>\n",
       "      <td>NaN</td>\n",
       "      <td>TcpIp/Recv</td>\n",
       "      <td>107516c49f25f834f303d259f0cd069b</td>\n",
       "      <td>admin</td>\n",
       "      <td>1652108220</td>\n",
       "      <td>5/9/2022 22:57</td>\n",
       "      <td>192.168.0.110</td>\n",
       "      <td>49,784</td>\n",
       "      <td>...</td>\n",
       "      <td>443</td>\n",
       "      <td>Nil</td>\n",
       "      <td>NaN</td>\n",
       "      <td>NaN</td>\n",
       "      <td>nil</td>\n",
       "      <td>NaN</td>\n",
       "      <td>T1589</td>\n",
       "      <td>5260#nan</td>\n",
       "      <td>42.81.86.68:443</td>\n",
       "      <td>0</td>\n",
       "    </tr>\n",
       "    <tr>\n",
       "      <th>1</th>\n",
       "      <td>NaN</td>\n",
       "      <td>5260</td>\n",
       "      <td>iexplore</td>\n",
       "      <td>TcpIp/Recv</td>\n",
       "      <td>2adc6537eb5533876f20120cf5c963c1</td>\n",
       "      <td>admin</td>\n",
       "      <td>1652108220</td>\n",
       "      <td>5/9/2022 22:57</td>\n",
       "      <td>192.168.0.110</td>\n",
       "      <td>49,784</td>\n",
       "      <td>...</td>\n",
       "      <td>443</td>\n",
       "      <td>Nil</td>\n",
       "      <td>NaN</td>\n",
       "      <td>NaN</td>\n",
       "      <td>nil</td>\n",
       "      <td>NaN</td>\n",
       "      <td>T1589</td>\n",
       "      <td>5260#iexplore</td>\n",
       "      <td>42.81.86.68:443</td>\n",
       "      <td>0</td>\n",
       "    </tr>\n",
       "    <tr>\n",
       "      <th>2</th>\n",
       "      <td>NaN</td>\n",
       "      <td>1240</td>\n",
       "      <td>devenv</td>\n",
       "      <td>TcpIp/Send</td>\n",
       "      <td>e4f93e96a4fd137ee1eab1f4ca61eecd</td>\n",
       "      <td>admin</td>\n",
       "      <td>1652108243</td>\n",
       "      <td>5/9/2022 22:57</td>\n",
       "      <td>192.168.0.110</td>\n",
       "      <td>49,846</td>\n",
       "      <td>...</td>\n",
       "      <td>9,354</td>\n",
       "      <td>Nil</td>\n",
       "      <td>NaN</td>\n",
       "      <td>NaN</td>\n",
       "      <td>nil</td>\n",
       "      <td>NaN</td>\n",
       "      <td>T1020</td>\n",
       "      <td>1240#devenv</td>\n",
       "      <td>13.94.47.61:9,354</td>\n",
       "      <td>0</td>\n",
       "    </tr>\n",
       "    <tr>\n",
       "      <th>3</th>\n",
       "      <td>NaN</td>\n",
       "      <td>2980</td>\n",
       "      <td>MsMpEng</td>\n",
       "      <td>FileIO/Read</td>\n",
       "      <td>1e852ace593ef6bfd6c386da5dadb3d2</td>\n",
       "      <td>admin</td>\n",
       "      <td>1652108265</td>\n",
       "      <td>5/9/2022 22:57</td>\n",
       "      <td>NaN</td>\n",
       "      <td>NaN</td>\n",
       "      <td>...</td>\n",
       "      <td>NaN</td>\n",
       "      <td>D:\\distdet-log\\benign_collect_time.txt</td>\n",
       "      <td>NaN</td>\n",
       "      <td>NaN</td>\n",
       "      <td>nil</td>\n",
       "      <td>NaN</td>\n",
       "      <td>T1005</td>\n",
       "      <td>2980#MsMpEng</td>\n",
       "      <td>D:\\distdet-log\\benign_collect_time.txt</td>\n",
       "      <td>0</td>\n",
       "    </tr>\n",
       "    <tr>\n",
       "      <th>4</th>\n",
       "      <td>NaN</td>\n",
       "      <td>6512</td>\n",
       "      <td>LogonUI</td>\n",
       "      <td>Process/Start</td>\n",
       "      <td>2e446d6b15964401882cb1643ebd7623</td>\n",
       "      <td>admin</td>\n",
       "      <td>1652108277</td>\n",
       "      <td>5/9/2022 22:57</td>\n",
       "      <td>NaN</td>\n",
       "      <td>NaN</td>\n",
       "      <td>...</td>\n",
       "      <td>NaN</td>\n",
       "      <td>Nil</td>\n",
       "      <td>2156.0</td>\n",
       "      <td>LogonUI.exe</td>\n",
       "      <td>&amp;quot;LogonUI.exe&amp;quot; /flags:0x0 /state0:0xa...</td>\n",
       "      <td>unknown</td>\n",
       "      <td>T1204.002</td>\n",
       "      <td>2156#unknown</td>\n",
       "      <td>6512#LogonUI</td>\n",
       "      <td>0</td>\n",
       "    </tr>\n",
       "  </tbody>\n",
       "</table>\n",
       "<p>5 rows × 21 columns</p>\n",
       "</div>"
      ],
      "text/plain": [
       "  label   PID     PName          event                               eid  \\\n",
       "0   NaN  5260       NaN     TcpIp/Recv  107516c49f25f834f303d259f0cd069b   \n",
       "1   NaN  5260  iexplore     TcpIp/Recv  2adc6537eb5533876f20120cf5c963c1   \n",
       "2   NaN  1240    devenv     TcpIp/Send  e4f93e96a4fd137ee1eab1f4ca61eecd   \n",
       "3   NaN  2980   MsMpEng    FileIO/Read  1e852ace593ef6bfd6c386da5dadb3d2   \n",
       "4   NaN  6512   LogonUI  Process/Start  2e446d6b15964401882cb1643ebd7623   \n",
       "\n",
       "    user   timestamp            date          saddr   sport  ...  dport  \\\n",
       "0  admin  1652108220  5/9/2022 22:57  192.168.0.110  49,784  ...    443   \n",
       "1  admin  1652108220  5/9/2022 22:57  192.168.0.110  49,784  ...    443   \n",
       "2  admin  1652108243  5/9/2022 22:57  192.168.0.110  49,846  ...  9,354   \n",
       "3  admin  1652108265  5/9/2022 22:57            NaN     NaN  ...    NaN   \n",
       "4  admin  1652108277  5/9/2022 22:57            NaN     NaN  ...    NaN   \n",
       "\n",
       "                                 FileName ParentID  ImageFileName  \\\n",
       "0                                     Nil      NaN            NaN   \n",
       "1                                     Nil      NaN            NaN   \n",
       "2                                     Nil      NaN            NaN   \n",
       "3  D:\\distdet-log\\benign_collect_time.txt      NaN            NaN   \n",
       "4                                     Nil   2156.0    LogonUI.exe   \n",
       "\n",
       "                                         CommandLine   PPName techniques  \\\n",
       "0                                                nil      NaN      T1589   \n",
       "1                                                nil      NaN      T1589   \n",
       "2                                                nil      NaN      T1020   \n",
       "3                                                nil      NaN      T1005   \n",
       "4  &quot;LogonUI.exe&quot; /flags:0x0 /state0:0xa...  unknown  T1204.002   \n",
       "\n",
       "         subject                                  object anomaly_label  \n",
       "0       5260#nan                         42.81.86.68:443             0  \n",
       "1  5260#iexplore                         42.81.86.68:443             0  \n",
       "2    1240#devenv                       13.94.47.61:9,354             0  \n",
       "3   2980#MsMpEng  D:\\distdet-log\\benign_collect_time.txt             0  \n",
       "4   2156#unknown                            6512#LogonUI             0  \n",
       "\n",
       "[5 rows x 21 columns]"
      ]
     },
     "execution_count": 48,
     "metadata": {},
     "output_type": "execute_result"
    }
   ],
   "source": [
    "events_df.head()"
   ]
  },
  {
   "cell_type": "code",
   "execution_count": 49,
   "id": "5bc162b0",
   "metadata": {},
   "outputs": [
    {
     "data": {
      "text/plain": [
       "array(['TcpIp/Recv', 'TcpIp/Send', 'FileIO/Read', 'Process/Start',\n",
       "       'Image/Load'], dtype=object)"
      ]
     },
     "execution_count": 49,
     "metadata": {},
     "output_type": "execute_result"
    }
   ],
   "source": [
    "events_df['event'].unique()"
   ]
  },
  {
   "cell_type": "markdown",
   "id": "df5c74f0",
   "metadata": {},
   "source": [
    "Change object to include sport, dport and daddr"
   ]
  },
  {
   "cell_type": "code",
   "execution_count": 50,
   "id": "04e5a4bd",
   "metadata": {},
   "outputs": [
    {
     "name": "stderr",
     "output_type": "stream",
     "text": [
      "C:\\Users\\Administrator\\AppData\\Local\\Temp\\ipykernel_4116\\2743778871.py:3: SettingWithCopyWarning: \n",
      "A value is trying to be set on a copy of a slice from a DataFrame\n",
      "\n",
      "See the caveats in the documentation: https://pandas.pydata.org/pandas-docs/stable/user_guide/indexing.html#returning-a-view-versus-a-copy\n",
      "  events_df['object'][events_df['event'].isin(['TcpIp/Recv', 'TcpIp/Send'])] = events_df_tcp_send_recive['sport'] + ':' + events_df_tcp_send_recive['daddr']  + ':' + events_df_tcp_send_recive['dport']\n"
     ]
    }
   ],
   "source": [
    "events_df_tcp_send_recive = events_df[events_df['event'].isin(['TcpIp/Recv', 'TcpIp/Send'])]\n",
    "\n",
    "events_df['object'][events_df['event'].isin(['TcpIp/Recv', 'TcpIp/Send'])] = events_df_tcp_send_recive['sport'] + ':' + events_df_tcp_send_recive['daddr']  + ':' + events_df_tcp_send_recive['dport'] \n",
    "# events_df[events_df['event'] == 'TcpIp/Recv']"
   ]
  },
  {
   "cell_type": "code",
   "execution_count": 51,
   "id": "e38b7ae5",
   "metadata": {},
   "outputs": [
    {
     "data": {
      "text/plain": [
       "4869    C:\\Windows\\System32\\WindowsPowerShell\\v1.0\\pow...\n",
       "5154    C:\\Windows\\System32\\WindowsPowerShell\\v1.0\\pow...\n",
       "5158    C:\\Windows\\System32\\WindowsPowerShell\\v1.0\\pow...\n",
       "Name: object, dtype: object"
      ]
     },
     "execution_count": 51,
     "metadata": {},
     "output_type": "execute_result"
    }
   ],
   "source": [
    "events_df['object'][events_df['object'] == \"C:\\\\Windows\\\\System32\\\\WindowsPowerShell\\\\v1.0\\\\powershell.exe\"]"
   ]
  },
  {
   "cell_type": "code",
   "execution_count": 52,
   "id": "44e456ec",
   "metadata": {},
   "outputs": [
    {
     "name": "stderr",
     "output_type": "stream",
     "text": [
      "C:\\Users\\Administrator\\AppData\\Local\\Temp\\ipykernel_4116\\4271115793.py:2: SettingWithCopyWarning: \n",
      "A value is trying to be set on a copy of a slice from a DataFrame\n",
      "\n",
      "See the caveats in the documentation: https://pandas.pydata.org/pandas-docs/stable/user_guide/indexing.html#returning-a-view-versus-a-copy\n",
      "  events_df['object'][ind] = events_df_exe_objects['object'][ind] + \"_timestamp_\" + str(events_df_exe_objects['timestamp'][ind])\n"
     ]
    }
   ],
   "source": [
    "for ind, row in events_df_exe_objects.iterrows():\n",
    "    events_df['object'][ind] = events_df_exe_objects['object'][ind] + \"_timestamp_\" + str(events_df_exe_objects['timestamp'][ind])\n",
    "\n",
    "# events_df_exe_objects = events_df[events_df['object'] == \"C:\\\\Windows\\\\System32\\\\WindowsPowerShell\\\\v1.0\\\\powershell.exe\"]\n",
    "\n",
    "# events_df['object'][events_df['object'] == \"C:\\\\Windows\\\\System32\\\\WindowsPowerShell\\\\v1.0\\\\powershell.exe\"] = events_df_exe_objects['object'] + str(events_df_exe_objects['timestamp'])"
   ]
  },
  {
   "cell_type": "code",
   "execution_count": 55,
   "id": "dfbdfc4f",
   "metadata": {},
   "outputs": [],
   "source": [
    "events_df.to_csv(f\"{ds_name}_Krystal_transformation.csv\", index=False)"
   ]
  },
  {
   "cell_type": "code",
   "execution_count": null,
   "id": "4ac8c7d1",
   "metadata": {},
   "outputs": [],
   "source": []
  }
 ],
 "metadata": {
  "kernelspec": {
   "display_name": "Python 3 (ipykernel)",
   "language": "python",
   "name": "python3"
  },
  "language_info": {
   "codemirror_mode": {
    "name": "ipython",
    "version": 3
   },
   "file_extension": ".py",
   "mimetype": "text/x-python",
   "name": "python",
   "nbconvert_exporter": "python",
   "pygments_lexer": "ipython3",
   "version": "3.10.9"
  }
 },
 "nbformat": 4,
 "nbformat_minor": 5
}
