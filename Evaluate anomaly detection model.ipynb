{
 "cells": [
  {
   "cell_type": "markdown",
   "id": "aa79433c",
   "metadata": {},
   "source": [
    "This file includes the code of evaluating the anomaly detector as described in section 4.3"
   ]
  },
  {
   "cell_type": "code",
   "execution_count": 1,
   "id": "6eee9601",
   "metadata": {},
   "outputs": [],
   "source": [
    "import gzip\n",
    "import torch\n",
    "import pandas as pd\n",
    "from collections import defaultdict\n",
    "import uuid\n",
    "import numpy as np\n",
    "from tqdm import tqdm\n",
    "from torch.nn.functional import softmax, cross_entropy\n",
    "import networkx as nx\n",
    "import pickle\n"
   ]
  },
  {
   "cell_type": "markdown",
   "id": "32c97b81",
   "metadata": {},
   "source": [
    "# Load data"
   ]
  },
  {
   "cell_type": "markdown",
   "id": "08e2ae9b",
   "metadata": {},
   "source": [
    "This data includes the events that flagged as suspicious and splitted to train/var/test- as described in section 4.2 \n",
    "The splitting of data is occurred in - 'Make sequence dataset.ipynb'"
   ]
  },
  {
   "cell_type": "code",
   "execution_count": 2,
   "id": "fff98e6d",
   "metadata": {},
   "outputs": [],
   "source": [
    "#choose dataset by name\n",
    "ds_name = \"Theia\" #Cadets, Theia"
   ]
  },
  {
   "cell_type": "code",
   "execution_count": 3,
   "id": "05b0b736",
   "metadata": {},
   "outputs": [],
   "source": [
    "data_folder = f\"dataset/{ds_name.lower()}/\"\n",
    "events_df = pd.read_csv(data_folder+f\"{ds_name}_Krystal_transformation.csv\")\n",
    "seq_len = 10 # set seq len"
   ]
  },
  {
   "cell_type": "code",
   "execution_count": 4,
   "id": "70d16bea",
   "metadata": {},
   "outputs": [],
   "source": [
    "set_name = \"val\" #train, val, test\n",
    "\n",
    "fname_data_for_model = f\"{ds_name}_{set_name}_data_for_model.pkl\"\n",
    "fname_data_for_graph = f\"{ds_name}_{set_name}_data_for_graph.pkl\"\n",
    "\n",
    "\n",
    "val_data_for_model = pickle.load(open(data_folder+fname_data_for_model, \"rb\" ) )\n",
    "val_data_for_graph = pickle.load(open(data_folder+fname_data_for_graph, \"rb\" ) )"
   ]
  },
  {
   "cell_type": "code",
   "execution_count": 5,
   "id": "1a073a18",
   "metadata": {},
   "outputs": [],
   "source": [
    "set_name = \"test\" #train, val, test\n",
    "\n",
    "fname_data_for_model = f\"{ds_name}_{set_name}_data_for_model.pkl\"\n",
    "fname_data_for_graph = f\"{ds_name}_{set_name}_data_for_graph.pkl\"\n",
    "\n",
    "test_data_for_model = pickle.load(open(data_folder+fname_data_for_model, \"rb\" ) )\n",
    "test_data_for_graph = pickle.load(open(data_folder+fname_data_for_graph, \"rb\" ) )"
   ]
  },
  {
   "cell_type": "code",
   "execution_count": 6,
   "id": "f31fa8a1",
   "metadata": {},
   "outputs": [],
   "source": [
    "device = torch.device(\"cuda\" if torch.cuda.is_available() else \"cpu\")"
   ]
  },
  {
   "cell_type": "code",
   "execution_count": 7,
   "id": "dbb97d83",
   "metadata": {},
   "outputs": [
    {
     "name": "stdout",
     "output_type": "stream",
     "text": [
      "104 sequences are validation sequences\n",
      "Next 400 are test sequences\n"
     ]
    }
   ],
   "source": [
    "print(f\"{len(val_data_for_model['data_for_sequences'])} sequences are validation sequences\")\n",
    "print(f\"Next {len(test_data_for_model['data_for_sequences'])} are test sequences\")"
   ]
  },
  {
   "cell_type": "markdown",
   "id": "74971012",
   "metadata": {},
   "source": [
    "# Load anomaly detection model"
   ]
  },
  {
   "cell_type": "code",
   "execution_count": 8,
   "id": "9f5ae595",
   "metadata": {},
   "outputs": [],
   "source": [
    "import pandas as pd\n",
    "import torch\n",
    "from torch.utils.data import Dataset, Sampler\n",
    "import numpy as np\n",
    "from torch.utils.data import DataLoader"
   ]
  },
  {
   "cell_type": "code",
   "execution_count": 9,
   "id": "e79201f7",
   "metadata": {},
   "outputs": [],
   "source": [
    "import torch\n",
    "import torch.nn as nn\n",
    "from torch.autograd import Variable\n",
    "from anomaly_detector_architecture import ad_model"
   ]
  },
  {
   "cell_type": "code",
   "execution_count": 10,
   "id": "49ab2df7",
   "metadata": {},
   "outputs": [],
   "source": [
    "options = dict()\n",
    "options['input_size'] =  41 #len(train_logs[0][0])\n",
    "options['hidden_size'] = 128\n",
    "options['num_layers'] = 2\n",
    "options['num_classes'] = 6\n",
    "options['batch_size'] = 64\n",
    "options['p_dropout'] = 0.3\n",
    "options['bidirectional'] = False\n",
    "options['seq_len'] = 10"
   ]
  },
  {
   "cell_type": "code",
   "execution_count": 11,
   "id": "bddd014d",
   "metadata": {},
   "outputs": [
    {
     "data": {
      "text/plain": [
       "ad_model(\n",
       "  (lstm): LSTM(41, 128, num_layers=2, batch_first=True, dropout=0.3)\n",
       "  (fc): Linear(in_features=128, out_features=6, bias=True)\n",
       ")"
      ]
     },
     "execution_count": 11,
     "metadata": {},
     "output_type": "execute_result"
    }
   ],
   "source": [
    "model = ad_model(input_size=options['input_size'],\n",
    "                 hidden_size=options['hidden_size'],\n",
    "                 num_layers=options['num_layers'],\n",
    "                 num_classes=options['num_classes'],\n",
    "               p_dropout=options['p_dropout'],\n",
    "               bidirectional=options['bidirectional'])\n",
    "model"
   ]
  },
  {
   "cell_type": "code",
   "execution_count": 12,
   "id": "4bc30d85",
   "metadata": {},
   "outputs": [],
   "source": [
    "# fill model with the trained weights\n",
    "model_path = \"anomaly_detection_model.pth\"\n",
    "model.load_state_dict(torch.load(model_path))\n",
    "model = model.to(device)"
   ]
  },
  {
   "cell_type": "markdown",
   "id": "214fbe90",
   "metadata": {},
   "source": [
    "# Find anomaly threshold from validation set"
   ]
  },
  {
   "cell_type": "code",
   "execution_count": 13,
   "id": "4143a8ff",
   "metadata": {},
   "outputs": [
    {
     "data": {
      "text/plain": [
       "ad_model(\n",
       "  (lstm): LSTM(41, 128, num_layers=2, batch_first=True, dropout=0.3)\n",
       "  (fc): Linear(in_features=128, out_features=6, bias=True)\n",
       ")"
      ]
     },
     "execution_count": 13,
     "metadata": {},
     "output_type": "execute_result"
    }
   ],
   "source": [
    "model.eval()"
   ]
  },
  {
   "cell_type": "code",
   "execution_count": 14,
   "id": "c32ab922",
   "metadata": {},
   "outputs": [
    {
     "name": "stderr",
     "output_type": "stream",
     "text": [
      "100%|███████████████████████████████████████████████████████████████████████████████| 104/104 [00:00<00:00, 601.45it/s]\n"
     ]
    }
   ],
   "source": [
    "anomaly_score_ls = []\n",
    "candidates = 1\n",
    "\n",
    "with torch.no_grad():\n",
    "\n",
    "    for seq in tqdm(val_data_for_model['data_for_sequences']):\n",
    "        ind = seq['seq_ind']\n",
    "        logs_input = seq['logs_for_sequence']\n",
    "        next_event_types = seq['next_event_types']\n",
    "        \n",
    "        logs_input = torch.tensor([logs_input], dtype=torch.long).to(device)\n",
    "        next_event_types = torch.tensor(next_event_types, dtype=torch.long).to(device)\n",
    "        output = model(logs_input)\n",
    "        \n",
    "        soft_out = softmax(output, dim=-1).squeeze()\n",
    "        sorted_preds = torch.argsort(output.squeeze(), dim=-1 ,descending=True)\n",
    "        anomaly_score = 0\n",
    "        for ind_event, pred, correct_event_type in zip(range(seq_len), sorted_preds, next_event_types):\n",
    "            top_k_preds = pred[:candidates] \n",
    "            if correct_event_type not in top_k_preds: \n",
    "                anomaly_score += 0.2 * (1-soft_out[ind_event, correct_event_type])\n",
    "        anomaly_score_ls.append(anomaly_score)"
   ]
  },
  {
   "cell_type": "code",
   "execution_count": 15,
   "id": "4835834e",
   "metadata": {},
   "outputs": [
    {
     "data": {
      "text/plain": [
       "(0.2519275, 0.44127148)"
      ]
     },
     "execution_count": 15,
     "metadata": {},
     "output_type": "execute_result"
    }
   ],
   "source": [
    "np.average(anomaly_score_ls), np.max(anomaly_score_ls)"
   ]
  },
  {
   "cell_type": "markdown",
   "id": "e009cfde",
   "metadata": {},
   "source": [
    "# Evaluations - for the selected dataset"
   ]
  },
  {
   "cell_type": "code",
   "execution_count": 16,
   "id": "62d612c2",
   "metadata": {
    "scrolled": true
   },
   "outputs": [
    {
     "name": "stderr",
     "output_type": "stream",
     "text": [
      "100%|███████████████████████████████████████████████████████████████████████████████| 400/400 [00:00<00:00, 699.34it/s]\n"
     ]
    }
   ],
   "source": [
    "model.eval()\n",
    "\n",
    "FP = 0\n",
    "FN = 0\n",
    "TP = 0\n",
    "TN = 0\n",
    "\n",
    "malicious_seq = [] # indices of the malicious sequences\n",
    "\n",
    "FP_ls = []\n",
    "TP_ls = []\n",
    "threshold_anomaly_score = 0.5\n",
    "candidates = 1\n",
    "\n",
    "with torch.no_grad():\n",
    "    for seq in tqdm(test_data_for_model['data_for_sequences']):\n",
    "        seq_ind = seq['seq_ind']\n",
    "        logs_input = seq['logs_for_sequence']\n",
    "        next_event_types = seq['next_event_types']\n",
    "        malicious_label = seq['label']\n",
    "#         print(seq_ind, malicious_label)\n",
    "        logs_input = torch.tensor([logs_input], dtype=torch.long).to(device)\n",
    "        output = model(logs_input)\n",
    "\n",
    "        next_event_types = torch.tensor(next_event_types, dtype=torch.long).to(device)\n",
    "\n",
    "        soft_out = softmax(output, dim=-1).squeeze()\n",
    "        sorted_preds = torch.argsort(output.squeeze(), dim=-1 ,descending=True)\n",
    "        anomaly_score = 0\n",
    "        \n",
    "\n",
    "        for ind_event, pred, correct_event_type in zip(range(seq_len), sorted_preds, next_event_types):\n",
    "            top_k_preds = pred[:candidates] \n",
    "            if correct_event_type not in top_k_preds: \n",
    "                normalized_mistake = 0.2 * (1-soft_out[ind_event, correct_event_type])\n",
    "                anomaly_score += normalized_mistake\n",
    "                \n",
    "\n",
    "\n",
    "        anomaly_score = round(float(anomaly_score),3)\n",
    "        if malicious_label == 1: # malicious\n",
    "            malicious_seq.append(seq_ind)\n",
    "            if anomaly_score<threshold_anomaly_score:\n",
    "                FN += 1\n",
    "#                 print(f\"FN: seq ind-{seq_ind} a.s:{anomaly_score}\")\n",
    "\n",
    "            else:\n",
    "#                 print(f\"TP: seq ind-{seq_ind} a.s:{anomaly_score}\")\n",
    "                TP_ls.append(seq_ind)\n",
    "                TP += 1\n",
    "        elif malicious_label == 0: # benign\n",
    "            if anomaly_score<threshold_anomaly_score:\n",
    "                TN += 1\n",
    "#                 print(f\"TN: seq ind-{seq_ind} a.s:{anomaly_score}\")\n",
    "            else:\n",
    "#                 print(f\"FP: seq ind-{seq_ind} a.s:{anomaly_score}\")\n",
    "                FP_ls.append(seq_ind)\n",
    "                FP += 1\n"
   ]
  },
  {
   "cell_type": "code",
   "execution_count": 17,
   "id": "3e746452",
   "metadata": {
    "scrolled": true
   },
   "outputs": [
    {
     "name": "stdout",
     "output_type": "stream",
     "text": [
      "true positive: 25, \n",
      "false positive (FP): 37, \n",
      "true negative: 337, \n",
      "false negative (FN): 1, \n",
      "Precision: 0.403, \n",
      "Recall: 0.962, \n",
      "False positive rate: 0.099\n"
     ]
    }
   ],
   "source": [
    "FPR = FP/(FP+TN)\n",
    "P = TP / (TP + FP) if TP + FP>0 else 0\n",
    "R = TP / (TP + FN) if TP + FN>0 else 0\n",
    "print('true positive: {}, \\nfalse positive (FP): {}, \\ntrue negative: {}, \\nfalse negative (FN): {}, \\nPrecision: {:.3f}, \\nRecall: {:.3f}, \\nFalse positive rate: {:.3f}'\n",
    "    .format(TP, FP, TN, FN, P, R, FPR))"
   ]
  }
 ],
 "metadata": {
  "kernelspec": {
   "display_name": "Python 3 (ipykernel)",
   "language": "python",
   "name": "python3"
  },
  "language_info": {
   "codemirror_mode": {
    "name": "ipython",
    "version": 3
   },
   "file_extension": ".py",
   "mimetype": "text/x-python",
   "name": "python",
   "nbconvert_exporter": "python",
   "pygments_lexer": "ipython3",
   "version": "3.10.9"
  }
 },
 "nbformat": 4,
 "nbformat_minor": 5
}
